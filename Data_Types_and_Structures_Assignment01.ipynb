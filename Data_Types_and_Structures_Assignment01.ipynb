{
  "nbformat": 4,
  "nbformat_minor": 0,
  "metadata": {
    "colab": {
      "provenance": []
    },
    "kernelspec": {
      "name": "python3",
      "display_name": "Python 3"
    },
    "language_info": {
      "name": "python"
    }
  },
  "cells": [
    {
      "cell_type": "markdown",
      "source": [
        "#Data Types and Structures Assignment Questions"
      ],
      "metadata": {
        "id": "UZULtjfaAk_s"
      }
    },
    {
      "cell_type": "markdown",
      "source": [
        "#A. Theory Questions"
      ],
      "metadata": {
        "id": "OQkMD-tnm0Wl"
      }
    },
    {
      "cell_type": "markdown",
      "source": [
        "#### Q1. What are data structures, and why are they important?\n",
        "- Data structures are ways to organize and store data efficiently so it can be accessed and modified easily. They are important because they optimize operations like searching, sorting, and data manipulation, helping improve the performance of software applications.\n",
        "\n",
        "\n"
      ],
      "metadata": {
        "id": "SwVPNw0ez2u9"
      }
    },
    {
      "cell_type": "markdown",
      "source": [
        "####Q2. Explain the difference between mutable and immutable data types with examples.\n",
        "- Mutable: These can be modified after creation. Example: Lists (list), Dictionaries.\n",
        "- Immutable: These cannot be modified after creation. Example: Strings (str), Tuples (tuple).\n",
        "\n",
        "\n"
      ],
      "metadata": {
        "id": "vjxXdKZ2MvPs"
      }
    },
    {
      "cell_type": "markdown",
      "source": [
        "####Q3. What are the main differences between lists and tuples in Python?\n",
        "- Lists: Mutable, slower, better for operations requiring frequent modifications.\n",
        "- Tuples: Immutable, faster, better for fixed or constant data."
      ],
      "metadata": {
        "id": "hg4o-63WNYYp"
      }
    },
    {
      "cell_type": "markdown",
      "source": [
        "####Q4. Describe how dictionaries store data.\n",
        "- Dictionaries store data as key-value pairs using a hash table. Each key is unique, and its corresponding value can be accessed efficiently using the key.\n",
        "\n",
        "####Q5. Why might you use a set instead of a list in Python?\n",
        "- A set automatically removes duplicate values and provides faster membership testing (in keyword). It’s useful for storing unique elements.\n",
        "\n",
        "####Q6. What is a string in Python, and how is it different from a list?\n",
        "- A string is a sequence of characters, immutable, and used for textual data. A list, on the other hand, is mutable and can contain any type of elements like string, intiger, bool.\n",
        "\n",
        "####Q7. How do tuples ensure data integrity in Python?\n",
        "- Tuples are immutable, meaning once created, their data cannot be altered. This ensures that the data remains constant and unchanged, making tuples ideal for storing fixed data.\n",
        "\n",
        "####Q8.What is a hash table, and how does it relate to dictionaries in Python?\n",
        "- A hash table is a data structure that maps keys to values using a hash function. Python dictionaries use hash tables internally, enabling fast lookups for keys.\n",
        "\n",
        "\n"
      ],
      "metadata": {
        "id": "799J5WOHN49u"
      }
    },
    {
      "cell_type": "markdown",
      "source": [
        "####Q9. Can lists contain different data types in Python?\n",
        "- Yes, Python lists can store elements of different data types.\n",
        "\n",
        "####Q10. Explain why strings are immutable in Python.\n",
        "- Strings are immutable to ensure consistency, efficiency, and security, especially when used as keys in dictionaries or during multi-threaded operations.\n",
        "\n",
        "####Q11. What advantages do dictionaries offer over lists for certain tasks?\n",
        "- Dictionaries allow faster lookups and data retrieval using keys, making them ideal for tasks involving mapping and associating data like a phone book.\n",
        "\n",
        "####Q12. Describe a scenario where using a tuple would be preferable over a list.\n",
        "- Use a tuple when storing constant data that should not change, such as coordinates (x, y) or days of the week.\n",
        "\n"
      ],
      "metadata": {
        "id": "2YqOgP3sDYKj"
      }
    },
    {
      "cell_type": "code",
      "source": [
        "#Q13. 13. How do sets handle duplicate values in Python?\n",
        "#Answer: Sets automatically discard duplicate values, ensuring all elements are unique.\n",
        "\n",
        "\n",
        "my_set = {1, 2, 2, 3}\n",
        "print(my_set)"
      ],
      "metadata": {
        "colab": {
          "base_uri": "https://localhost:8080/"
        },
        "id": "4nb2RfLxQAzh",
        "outputId": "5e84836e-4a2c-4ee8-ca13-1eccbf202868"
      },
      "execution_count": 1,
      "outputs": [
        {
          "output_type": "stream",
          "name": "stdout",
          "text": [
            "{1, 2, 3}\n"
          ]
        }
      ]
    },
    {
      "cell_type": "code",
      "source": [
        "#14. How does the in keyword work differently for lists and dictionaries?\n",
        "#Answer: For lists: Checks if the value exists in the list.\n",
        "\n",
        "2 in [1, 2, 3]\n",
        "\n",
        "#For dictionaries: Checks if the key exists in the dictionary.\n",
        "\n",
        "\"name\" in {\"name\": \"Nitin\"}"
      ],
      "metadata": {
        "colab": {
          "base_uri": "https://localhost:8080/"
        },
        "id": "BvCWyDJyQSmC",
        "outputId": "4b92011b-b0f4-4bb1-8dc9-fe7801047960"
      },
      "execution_count": 2,
      "outputs": [
        {
          "output_type": "execute_result",
          "data": {
            "text/plain": [
              "True"
            ]
          },
          "metadata": {},
          "execution_count": 2
        }
      ]
    },
    {
      "cell_type": "markdown",
      "source": [
        "####Q15. Can you modify the elements of a tuple? Explain why or why not.\n",
        "- No, tuples are immutable, so their elements cannot be modified. This characteristic ensures the data remains unchanged."
      ],
      "metadata": {
        "id": "dAM_IMbbSadD"
      }
    },
    {
      "cell_type": "code",
      "source": [
        "#Q16. What is a nested dictionary, and give an example of its use case.\n",
        "#Answer: A nested dictionary is a dictionary within another dictionary. It’s useful for storing hierarchical data, like a school database.\n",
        "\n",
        "school = {\n",
        "    \"class1\": {\"student1\": \"Alice\", \"student2\": \"Bob\"},\n",
        "    \"class2\": {\"student1\": \"Charlie\", \"student2\": \"Diana\"}\n",
        "}"
      ],
      "metadata": {
        "id": "vLNpxRGDQ0iq"
      },
      "execution_count": null,
      "outputs": []
    },
    {
      "cell_type": "markdown",
      "source": [
        "####Q17. Describe the time complexity of accessing elements in a dictionary.\n",
        "- The average time complexity for accessing elements in a dictionary is O(1) due to the hash table mechanism."
      ],
      "metadata": {
        "id": "T2sQQSCwSPqz"
      }
    },
    {
      "cell_type": "markdown",
      "source": [
        "####Q18. In what situations are lists preferred over dictionaries?\n",
        "- Lists are preferred when:\n",
        "- Order of elements matters.\n",
        "- Storing a simple sequence of data without key-value mappings."
      ],
      "metadata": {
        "id": "FLJYm4i_SBhL"
      }
    },
    {
      "cell_type": "markdown",
      "source": [
        "####Q19. Why are dictionaries considered unordered, and how does that affect data retrieval?\n",
        "- Dictionaries are unordered because their data is stored based on the hash of the keys, not their insertion order. As a result, retrieval must be done using keys, not positions.\n",
        "\n"
      ],
      "metadata": {
        "id": "edjlbhq4Rwua"
      }
    },
    {
      "cell_type": "code",
      "source": [
        "'''Q20. Explain the difference between a list and a dictionary in terms of data retrieval.\n",
        "Answer:\n",
        "\n",
        "List: Data is retrieved using an index.\n",
        "Dictionary: Data is retrieved using a key, making it more efficient for lookups.'''\n",
        "\n",
        "my_list = [10, 20, 30]\n",
        "my_dict = {\"a\": 10, \"b\": 20}\n",
        "print(my_list[1])\n",
        "print(my_dict[\"b\"])"
      ],
      "metadata": {
        "colab": {
          "base_uri": "https://localhost:8080/"
        },
        "id": "BdZQ7jRsSueO",
        "outputId": "18745df5-1ca3-4ec1-c80d-f394b8d1bffa"
      },
      "execution_count": 3,
      "outputs": [
        {
          "output_type": "stream",
          "name": "stdout",
          "text": [
            "20\n",
            "20\n"
          ]
        }
      ]
    },
    {
      "cell_type": "markdown",
      "source": [
        "#B. Practical Questions"
      ],
      "metadata": {
        "id": "rvhFNYwgnFSs"
      }
    },
    {
      "cell_type": "code",
      "source": [
        "#1. Write a code to create a string with your name and print it.\n",
        "\n",
        "name = \"Nitin\"\n",
        "print(name)"
      ],
      "metadata": {
        "colab": {
          "base_uri": "https://localhost:8080/"
        },
        "id": "ZX9u9vCxnNh2",
        "outputId": "f2e0e1cc-1085-4ec8-af03-41b8bfa165b2"
      },
      "execution_count": null,
      "outputs": [
        {
          "output_type": "stream",
          "name": "stdout",
          "text": [
            "Nitin\n"
          ]
        }
      ]
    },
    {
      "cell_type": "code",
      "source": [
        "#2. Write a code to find the length of the string \"Hello World\".\n",
        "\n",
        "string = \"Hello World\"\n",
        "print(len(string))"
      ],
      "metadata": {
        "colab": {
          "base_uri": "https://localhost:8080/"
        },
        "id": "nekZbZiRoJqL",
        "outputId": "f54614d1-2c17-4d4a-f0f8-c91773705945"
      },
      "execution_count": null,
      "outputs": [
        {
          "output_type": "stream",
          "name": "stdout",
          "text": [
            "11\n"
          ]
        }
      ]
    },
    {
      "cell_type": "code",
      "source": [
        "#3. Write a code to slice the first 3 characters from the string \"Python Programming\"\n",
        "\n",
        "n =  \"Python Programming\"\n",
        "\n",
        "print(n[0:3])"
      ],
      "metadata": {
        "colab": {
          "base_uri": "https://localhost:8080/"
        },
        "id": "xy_4YdHcotmZ",
        "outputId": "0992c3c9-4111-49a5-b7fc-c620279996a5"
      },
      "execution_count": null,
      "outputs": [
        {
          "output_type": "stream",
          "name": "stdout",
          "text": [
            "Pyt\n"
          ]
        }
      ]
    },
    {
      "cell_type": "code",
      "source": [
        "#4. Write a code to convert the string \"hello\" to uppercase\n",
        "n = \"hello\"\n",
        "\n",
        "n.upper()"
      ],
      "metadata": {
        "colab": {
          "base_uri": "https://localhost:8080/",
          "height": 36
        },
        "id": "sPt65h20uJUb",
        "outputId": "75ee3b95-f8c3-401c-b2cd-910451f4e86b"
      },
      "execution_count": null,
      "outputs": [
        {
          "output_type": "execute_result",
          "data": {
            "text/plain": [
              "'HELLO'"
            ],
            "application/vnd.google.colaboratory.intrinsic+json": {
              "type": "string"
            }
          },
          "metadata": {},
          "execution_count": 6
        }
      ]
    },
    {
      "cell_type": "code",
      "source": [
        "#5. Write a code to replace the word \"apple\" with \"orange\" in the string \"I like apple\"\n",
        "n = \"I like Apple\"\n",
        "n.replace(\"Apple\",\"Orange\")\n"
      ],
      "metadata": {
        "colab": {
          "base_uri": "https://localhost:8080/",
          "height": 36
        },
        "id": "9IaFFrrJuTlF",
        "outputId": "e71838ad-2d36-47ce-fd19-b26e1f26ffdf"
      },
      "execution_count": null,
      "outputs": [
        {
          "output_type": "execute_result",
          "data": {
            "text/plain": [
              "'I like Orange'"
            ],
            "application/vnd.google.colaboratory.intrinsic+json": {
              "type": "string"
            }
          },
          "metadata": {},
          "execution_count": 8
        }
      ]
    },
    {
      "cell_type": "code",
      "source": [
        "#6.Write a code to create a list with numbers 1 to 5 and print it\n",
        "\n",
        "numbers = [1, 2, 3, 4, 5]\n",
        "\n",
        "print(numbers)"
      ],
      "metadata": {
        "id": "FyJei2BrvAqg"
      },
      "execution_count": null,
      "outputs": []
    },
    {
      "cell_type": "code",
      "source": [
        "#7. Write a code to append the number 10 to the list [1, 2, 3, 4]\n",
        "\n",
        "list1 = [1, 2, 3, 4]\n",
        "list1.append(10)\n",
        "print(list1)\n"
      ],
      "metadata": {
        "colab": {
          "base_uri": "https://localhost:8080/"
        },
        "id": "d96kUJkAugNH",
        "outputId": "140ba9c8-9a71-432f-c0df-bf68308b3a7c"
      },
      "execution_count": null,
      "outputs": [
        {
          "output_type": "stream",
          "name": "stdout",
          "text": [
            "[1, 2, 3, 4, 10]\n"
          ]
        }
      ]
    },
    {
      "cell_type": "code",
      "source": [
        "#8. Write a code to remove the number 3 from the list [1, 2, 3, 4, 5]\n",
        "\n",
        "list1 = [1, 2, 3, 4, 5]\n",
        "list1.remove(3)\n",
        "print(list1)\n"
      ],
      "metadata": {
        "colab": {
          "base_uri": "https://localhost:8080/"
        },
        "id": "OitfdGmFuxUa",
        "outputId": "62f6c860-9bc5-4a90-fec6-b3c387226c03"
      },
      "execution_count": null,
      "outputs": [
        {
          "output_type": "stream",
          "name": "stdout",
          "text": [
            "[1, 2, 4, 5]\n"
          ]
        }
      ]
    },
    {
      "cell_type": "code",
      "source": [
        "#9. Write a code to access the second element in the list ['a', 'b', 'c', 'd']\n",
        "\n",
        "list1 = ['a', 'b', 'c', 'd']\n",
        "list1[1]\n"
      ],
      "metadata": {
        "colab": {
          "base_uri": "https://localhost:8080/",
          "height": 35
        },
        "id": "rFU0xvRSu8dP",
        "outputId": "1c966797-3de2-43b0-e5da-c870f19485b3"
      },
      "execution_count": null,
      "outputs": [
        {
          "output_type": "execute_result",
          "data": {
            "text/plain": [
              "'b'"
            ],
            "application/vnd.google.colaboratory.intrinsic+json": {
              "type": "string"
            }
          },
          "metadata": {},
          "execution_count": 5
        }
      ]
    },
    {
      "cell_type": "code",
      "source": [
        "#10. Write a code to reverse the list [10, 20, 30, 40, 50].\n",
        "\n",
        "list1 = [10, 20, 30, 40, 50]\n",
        "list1.reverse()\n",
        "print(list1)\n",
        "\n"
      ],
      "metadata": {
        "colab": {
          "base_uri": "https://localhost:8080/"
        },
        "id": "xFXn3xW4vctv",
        "outputId": "dd448afe-c8db-41ca-8b24-73936eaeccf5"
      },
      "execution_count": null,
      "outputs": [
        {
          "output_type": "stream",
          "name": "stdout",
          "text": [
            "[50, 40, 30, 20, 10]\n"
          ]
        }
      ]
    },
    {
      "cell_type": "code",
      "source": [
        "#11.Write a code to create a tuple with the elements 10, 20, 30 and print it.\n",
        "\n",
        "tuple1 = (10, 20, 30)\n",
        "print(tuple1)"
      ],
      "metadata": {
        "colab": {
          "base_uri": "https://localhost:8080/"
        },
        "id": "9xsfooHuvvEG",
        "outputId": "201b92d0-d114-4e35-87ef-a3aa0609c041"
      },
      "execution_count": null,
      "outputs": [
        {
          "output_type": "stream",
          "name": "stdout",
          "text": [
            "(10, 20, 30)\n"
          ]
        }
      ]
    },
    {
      "cell_type": "code",
      "source": [
        "#12. Write a code to access the first element of the tuple ('apple', 'banana', 'cherry')\n",
        "\n",
        "tuple1 =  ('apple', 'banana', 'cherry')\n",
        "\n",
        "tuple1[0]"
      ],
      "metadata": {
        "colab": {
          "base_uri": "https://localhost:8080/",
          "height": 35
        },
        "id": "4KJIufcvwAaS",
        "outputId": "2a6685d8-c63c-4bdb-87a5-446c71b3d3f4"
      },
      "execution_count": null,
      "outputs": [
        {
          "output_type": "execute_result",
          "data": {
            "text/plain": [
              "'apple'"
            ],
            "application/vnd.google.colaboratory.intrinsic+json": {
              "type": "string"
            }
          },
          "metadata": {},
          "execution_count": 10
        }
      ]
    },
    {
      "cell_type": "code",
      "source": [
        "#13. Write a code to count how many times the number 2 appears in the tuple (1, 2, 3, 2, 4, 2).\n",
        "\n",
        "tuple1 = (1, 2, 3, 2, 4, 2)\n",
        "\n",
        "tuple1.count(2)"
      ],
      "metadata": {
        "colab": {
          "base_uri": "https://localhost:8080/"
        },
        "id": "NNN1NCdGwNxZ",
        "outputId": "0fcfdc1e-7c14-402c-d063-8e8a3859b93b"
      },
      "execution_count": null,
      "outputs": [
        {
          "output_type": "execute_result",
          "data": {
            "text/plain": [
              "3"
            ]
          },
          "metadata": {},
          "execution_count": 12
        }
      ]
    },
    {
      "cell_type": "code",
      "source": [
        "#14. Write a code to find the index of the element \"cat\" in the tuple ('dog', 'cat', 'rabbit').\n",
        "\n",
        "tuple1 = ('dog', 'cat', 'rabbit')\n",
        "\n",
        "tuple1.index('cat')"
      ],
      "metadata": {
        "colab": {
          "base_uri": "https://localhost:8080/"
        },
        "id": "OdmDLOMXxBnZ",
        "outputId": "c794710d-ae4b-42ab-8ab7-4b288c8a890f"
      },
      "execution_count": null,
      "outputs": [
        {
          "output_type": "execute_result",
          "data": {
            "text/plain": [
              "1"
            ]
          },
          "metadata": {},
          "execution_count": 13
        }
      ]
    },
    {
      "cell_type": "code",
      "source": [
        "#15. Write a code to check if the element \"banana\" is in the tuple ('apple', 'orange', 'banana').\n",
        "\n",
        "tuple1 = ('apple', 'orange', 'banana')\n",
        "\n",
        "if 'banana' in tuple1:\n",
        "    print(\"banana is in tuple1\")\n",
        "else:\n",
        "    print(\"banana is not in tuple1\")"
      ],
      "metadata": {
        "colab": {
          "base_uri": "https://localhost:8080/"
        },
        "id": "Iq-j1sFJx08P",
        "outputId": "cbfac836-35d5-4c29-df68-3feca63d84d0"
      },
      "execution_count": null,
      "outputs": [
        {
          "output_type": "stream",
          "name": "stdout",
          "text": [
            "banana is in tuple1\n"
          ]
        }
      ]
    },
    {
      "cell_type": "code",
      "source": [
        "#16. Write a code to create a set with the elements 1, 2, 3, 4, 5 and print it.\n",
        "set1 = {1, 2, 3, 4, 5}\n",
        "print(set1)"
      ],
      "metadata": {
        "colab": {
          "base_uri": "https://localhost:8080/"
        },
        "id": "aWWHfktAyEo2",
        "outputId": "895f2a41-7b28-4497-f93d-5917a5e76d48"
      },
      "execution_count": null,
      "outputs": [
        {
          "output_type": "stream",
          "name": "stdout",
          "text": [
            "{1, 2, 3, 4, 5}\n"
          ]
        }
      ]
    },
    {
      "cell_type": "code",
      "source": [
        "#17. Write a code to add the element 6 to the set {1, 2, 3, 4}.\n",
        "set1 = {1, 2, 3, 4}\n",
        "set1.add(6)\n",
        "set1"
      ],
      "metadata": {
        "colab": {
          "base_uri": "https://localhost:8080/"
        },
        "id": "yyNnKHcjyPrO",
        "outputId": "30bc6669-1f27-4fc0-af18-ac0911a9fff1"
      },
      "execution_count": null,
      "outputs": [
        {
          "output_type": "execute_result",
          "data": {
            "text/plain": [
              "{1, 2, 3, 4, 6}"
            ]
          },
          "metadata": {},
          "execution_count": 19
        }
      ]
    },
    {
      "cell_type": "code",
      "source": [
        "#Note: Questions from 18 to 24 is repeated, so i have write the answer accordingly"
      ],
      "metadata": {
        "id": "dE09mRyjym4u"
      },
      "execution_count": null,
      "outputs": []
    },
    {
      "cell_type": "code",
      "source": [],
      "metadata": {
        "id": "W2Q9YOiXzOTN"
      },
      "execution_count": null,
      "outputs": []
    }
  ]
}